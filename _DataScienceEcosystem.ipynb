{
 "cells": [
  {
   "cell_type": "markdown",
   "id": "cf588c8c",
   "metadata": {},
   "source": [
    "# Data Science Tools and Ecosystem"
   ]
  },
  {
   "cell_type": "markdown",
   "id": "007a7a12",
   "metadata": {},
   "source": [
    "__Objective:__\n",
    "+ List popular languages used by Data Scientists\n",
    "+ Outline commonly used libraries in data science\n",
    "+ Tabular presentation of data\n",
    "+ Performing some arithmetic expression"
   ]
  },
  {
   "cell_type": "markdown",
   "id": "50449e53",
   "metadata": {},
   "source": [
    "In this notebook, Data Science Tools and Ecosystem are summarized."
   ]
  },
  {
   "cell_type": "markdown",
   "id": "e1f16c5b",
   "metadata": {},
   "source": [
    "Some of the popular languages that Data Scientist use are:\n",
    "1. Python\n",
    "2. R\n",
    "3. SQL\n",
    "4. Scala\n",
    "5. Java\n",
    "6. C++\n",
    "7. Julia"
   ]
  },
  {
   "cell_type": "markdown",
   "id": "c0983947",
   "metadata": {},
   "source": [
    "Some of the commonly used libraries used by data scientist include:\n",
    "1. Python Libraries e.g panda, matplotlib, numpy\n",
    "2. Machine Learning and Deep learning Libraries e.g tensorflow,keras, pytorch\n",
    "3. Other Library, e.g scala libraries and R libraries"
   ]
  },
  {
   "cell_type": "markdown",
   "id": "8dcf62b2",
   "metadata": {},
   "source": [
    "|Data Science Tool|\n",
    " -------------------------\n",
    "|Anaconda                |\n",
    "|Git                     |\n",
    "|Visual studio code      |"
   ]
  },
  {
   "cell_type": "markdown",
   "id": "4ea3b8f0",
   "metadata": {},
   "source": [
    "### Below are a few example of evaluating arithmetic expression in python"
   ]
  },
  {
   "cell_type": "code",
   "execution_count": 5,
   "id": "559edb7b",
   "metadata": {},
   "outputs": [
    {
     "name": "stdout",
     "output_type": "stream",
     "text": [
      "This a simple arithmetic expression to multiply then add integers\n"
     ]
    },
    {
     "data": {
      "text/plain": [
       "17"
      ]
     },
     "execution_count": 5,
     "metadata": {},
     "output_type": "execute_result"
    }
   ],
   "source": [
    "print(\"This a simple arithmetic expression to multiply then add integers\")\n",
    "(3*4)+5"
   ]
  },
  {
   "cell_type": "code",
   "execution_count": 6,
   "id": "0984c95e",
   "metadata": {},
   "outputs": [
    {
     "data": {
      "text/plain": [
       "3.3333333333333335"
      ]
     },
     "execution_count": 6,
     "metadata": {},
     "output_type": "execute_result"
    }
   ],
   "source": [
    "# this will convert 200min to hour by dividing by 60\n",
    "200/60"
   ]
  },
  {
   "cell_type": "markdown",
   "id": "1c295ad8",
   "metadata": {},
   "source": [
    "## Author\n",
    "Joseph Oche Ujah"
   ]
  },
  {
   "cell_type": "code",
   "execution_count": null,
   "id": "32250af4",
   "metadata": {},
   "outputs": [],
   "source": []
  }
 ],
 "metadata": {
  "kernelspec": {
   "display_name": "Python 3 (ipykernel)",
   "language": "python",
   "name": "python3"
  },
  "language_info": {
   "codemirror_mode": {
    "name": "ipython",
    "version": 3
   },
   "file_extension": ".py",
   "mimetype": "text/x-python",
   "name": "python",
   "nbconvert_exporter": "python",
   "pygments_lexer": "ipython3",
   "version": "3.11.5"
  }
 },
 "nbformat": 4,
 "nbformat_minor": 5
}
